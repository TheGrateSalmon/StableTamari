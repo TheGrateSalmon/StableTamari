{
 "cells": [
  {
   "cell_type": "code",
   "execution_count": null,
   "metadata": {},
   "outputs": [],
   "source": [
    "from collections import Counter\n",
    "import itertools as it\n",
    "import math\n",
    "\n",
    "import numpy as np\n",
    "from tqdm import tqdm\n",
    "\n",
    "from orders import position_compare, tamari_compare\n",
    "from posets import LowerOrderIdeal"
   ]
  },
  {
   "cell_type": "markdown",
   "metadata": {},
   "source": [
    "# Conjectures\n",
    "### Conjecture 1\n",
    "$f_{\\bf b}(t)$ is unimodal for any non-negative integer sequence ${\\bf b}$."
   ]
  },
  {
   "cell_type": "code",
   "execution_count": null,
   "metadata": {},
   "outputs": [],
   "source": [
    "b = (4, 2, 1)\n",
    "I = LowerOrderIdeal(b)\n",
    "f_coefficients = list(I.f_polynomial_counts.values())\n",
    "print(f'{I.f_polynomial=}\\n{I.is_unimodal(f_coefficients)}')"
   ]
  },
  {
   "cell_type": "markdown",
   "metadata": {},
   "source": [
    "### Conjecture 2\n",
    "For ${\\bf b} \\in \\mathbb{N}^n$, $f_{\\bf b}(t) = f_{\\text{rev}({\\bf b})}(t)$ where $\\text{rev}({\\bf b}) = (b_n, b_{n-1}, \\dots, b_1)$."
   ]
  },
  {
   "cell_type": "code",
   "execution_count": null,
   "metadata": {},
   "outputs": [],
   "source": [
    "search_space = [(1, 5), (1, 5), (1, 5)]\n",
    "for vector in tqdm(list(it.product(*(range(upper, lower-1, -1) for (lower, upper) in search_space)))):\n",
    "    I, J = LowerOrderIdeal(vector), LowerOrderIdeal(tuple(reversed(vector)))\n",
    "    if I.f_polynomial_counts != J.f_polynomial_counts:\n",
    "        print(f'{I.root=}\\t{J.root=}')\n",
    "        print(f'{I.f_poly}')\n",
    "        print(f'{J.f_poly}')\n",
    "        break\n",
    "else:\n",
    "    print(f'No counterexamples in search space = {search_space}')"
   ]
  },
  {
   "cell_type": "markdown",
   "metadata": {},
   "source": [
    "### Conjecture 3\n",
    "$F_{\\bf b}(t)$ is unimodal for any non-negative integer sequence ${\\bf b}$."
   ]
  },
  {
   "cell_type": "code",
   "execution_count": null,
   "metadata": {},
   "outputs": [],
   "source": [
    "b = (4, 2, 1)\n",
    "I = LowerOrderIdeal(b)\n",
    "F_coefficients = list(I.F_polynomial_counts.values())\n",
    "print(f'{I.F_polynomial=}\\n{I.is_unimodal(F_coefficients)}')"
   ]
  },
  {
   "cell_type": "markdown",
   "metadata": {},
   "source": [
    "### Conjecture 4\n",
    "$$\\min \\left\\{ \\left\\lvert {\\bf b}_{↓} \\right\\rvert \\, \\colon \\, {\\bf b} \\in \\mathfrak{S}_n \\right\\} = C_{n+1} = \\frac{1}{n+2} \\binom{2n+2}{n+1}$$"
   ]
  },
  {
   "cell_type": "code",
   "execution_count": null,
   "metadata": {},
   "outputs": [],
   "source": [
    "max_n = 5\n",
    "for n in tqdm(range(1, max_n + 1)):\n",
    "    size_counter = Counter(len(LowerOrderIdeal(perm)) for perm in it.permutations(range(1, n+1)))\n",
    "    min_size = min(size_counter)\n",
    "    catalan_number = math.comb(2*n+2, n+1) // (n+2)\n",
    "    if min_size != catalan_number:\n",
    "        print(f'{n=}: {min_size} != {catalan_number}')\n",
    "        break\n",
    "else:\n",
    "    print(f'No counterexamples found up to {n=}.')"
   ]
  },
  {
   "cell_type": "markdown",
   "metadata": {},
   "source": [
    "# Exercises\n",
    "### Exercise 1\n",
    "Construct the poset $([5], \\leq_{\\bf a})$ where ${\\bf a} = (6,1,0,2,4)$."
   ]
  },
  {
   "cell_type": "code",
   "execution_count": null,
   "metadata": {},
   "outputs": [],
   "source": [
    "a = (6,1,0,2,4)\n",
    "order_matrix = np.array([[position_compare(i, j, a) for j in range(len(a))] for i in range(len(a))], dtype=bool)\n",
    "print(order_matrix)"
   ]
  },
  {
   "cell_type": "markdown",
   "metadata": {},
   "source": [
    "### Exercise 2\n",
    "Let ${\\bf a} = (6,1,0,2,4)$, ${\\bf b} = (7,2,9,3,5)$. Determine whether ${\\bf a} \\leq_T {\\bf b}$."
   ]
  },
  {
   "cell_type": "code",
   "execution_count": null,
   "metadata": {},
   "outputs": [],
   "source": [
    "a = (6, 1, 0, 2, 4)\n",
    "b = (7, 2, 9, 3, 5)\n",
    "print(f'{a=} <= {b=}: {tamari_compare(a, b)}')"
   ]
  },
  {
   "cell_type": "markdown",
   "metadata": {},
   "source": [
    "### Exercise 3\n",
    "Construct the Hasse diagrams of $(4, 2, 1)_{↓}$ and $(1, 2, 4)_{↓}$."
   ]
  },
  {
   "cell_type": "code",
   "execution_count": null,
   "metadata": {},
   "outputs": [],
   "source": [
    "I = LowerOrderIdeal((4,2,1))\n",
    "I.hasse_diagram()\n",
    "\n",
    "J = LowerOrderIdeal((1,2,4))\n",
    "J.hasse_diagram()"
   ]
  },
  {
   "cell_type": "markdown",
   "metadata": {},
   "source": [
    "### Exercise 4\n",
    "Compute $f_{(4,2,1)}$ and $f_{(1,2,4)}$."
   ]
  },
  {
   "cell_type": "code",
   "execution_count": null,
   "metadata": {},
   "outputs": [],
   "source": [
    "I = LowerOrderIdeal((4,2,1))\n",
    "print(f'{I.f_polynomial=}')\n",
    "\n",
    "J = LowerOrderIdeal((1,2,4))\n",
    "print(f'{J.f_polynomial=}')"
   ]
  },
  {
   "cell_type": "code",
   "execution_count": null,
   "metadata": {},
   "outputs": [],
   "source": []
  }
 ],
 "metadata": {
  "kernelspec": {
   "display_name": "dev",
   "language": "python",
   "name": "python3"
  },
  "language_info": {
   "codemirror_mode": {
    "name": "ipython",
    "version": 3
   },
   "file_extension": ".py",
   "mimetype": "text/x-python",
   "name": "python",
   "nbconvert_exporter": "python",
   "pygments_lexer": "ipython3",
   "version": "3.11.5"
  }
 },
 "nbformat": 4,
 "nbformat_minor": 2
}
